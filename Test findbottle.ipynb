{
 "cells": [
  {
   "cell_type": "code",
   "execution_count": 4,
   "metadata": {},
   "outputs": [],
   "source": [
    "# -*- coding: utf-8 -*-\n",
    "\"\"\"\n",
    "Created on Tue Nov 12 14:04:52 2019\n",
    "\n",
    "@author: julien.linder\n",
    "\"\"\"\n",
    "\n",
    "import cv2\n",
    "\n",
    "if __name__==\"__main__\":\n",
    "    img = cv2.imread(\"C:/DEV/traitement d'images/serie4e/Images/TroisBallesRougeBleueBlanche.png\")\n",
    "    hsv = cv2.cvtColor(img, cv2.COLOR_BGR2HSV)\n",
    "    h,s,v = cv2.split(hsv)\n",
    "    \n",
    "    mask = cv2.inRange(hsv, (110, 50, 50), (130, 255, 255))\n",
    "    res = cv2.bitwise_and(img, img, mask=mask)\n",
    "    \n",
    "    cv2.imshow('img', img)\n",
    "    cv2.imshow('mask', mask)\n",
    "    cv2.imshow('res', res)\n",
    "    \n",
    "    kernel = cv2.getStructuringElement(cv2.MORPH_ELLIPSE, (18, 17))\n",
    "    \n",
    "    erode = cv2.erode(mask, kernel, iterations=2)\n",
    "    cv2.imshow('erode', erode)\n",
    "    \n",
    "    dilate = cv2.dilate(erode, kernel, iterations=2)\n",
    "    cv2.imshow('dilate', dilate)\n",
    "    res2 = cv2.bitwise_and(img, img, mask=dilate)\n",
    "    cv2.imshow('res2', res2)\n",
    "    \n",
    "    cv2.waitKey(0)"
   ]
  },
  {
   "cell_type": "code",
   "execution_count": 10,
   "metadata": {},
   "outputs": [],
   "source": [
    "import cv2"
   ]
  },
  {
   "cell_type": "code",
   "execution_count": 57,
   "metadata": {},
   "outputs": [],
   "source": [
    "src = \"unebouteille\"\n",
    "img = cv2.imread(\"C:/DEV/traitement d'images/findbottle/\" + src + \".jpg\")\n",
    "#print(img)\n",
    "hsv = cv2.cvtColor(img, cv2.COLOR_BGR2HSV)\n",
    "#print(hsv)\n",
    "mask = cv2.inRange(hsv, (0, 0, 0), (100, 200, 100))"
   ]
  },
  {
   "cell_type": "code",
   "execution_count": 58,
   "metadata": {},
   "outputs": [
    {
     "data": {
      "text/plain": [
       "-1"
      ]
     },
     "execution_count": 58,
     "metadata": {},
     "output_type": "execute_result"
    }
   ],
   "source": [
    "cv2.imshow(\"image\", img)\n",
    "\n",
    "cv2.imshow('hsv', hsv)\n",
    "\n",
    "cv2.imshow('mask', mask)\n",
    "\n",
    "cv2.waitKey(0)"
   ]
  },
  {
   "cell_type": "code",
   "execution_count": null,
   "metadata": {},
   "outputs": [],
   "source": []
  },
  {
   "cell_type": "code",
   "execution_count": null,
   "metadata": {},
   "outputs": [],
   "source": []
  },
  {
   "cell_type": "code",
   "execution_count": null,
   "metadata": {},
   "outputs": [],
   "source": []
  },
  {
   "cell_type": "code",
   "execution_count": null,
   "metadata": {},
   "outputs": [],
   "source": []
  }
 ],
 "metadata": {
  "kernelspec": {
   "display_name": "Python 3",
   "language": "python",
   "name": "python3"
  },
  "language_info": {
   "codemirror_mode": {
    "name": "ipython",
    "version": 3
   },
   "file_extension": ".py",
   "mimetype": "text/x-python",
   "name": "python",
   "nbconvert_exporter": "python",
   "pygments_lexer": "ipython3",
   "version": "3.8.2"
  }
 },
 "nbformat": 4,
 "nbformat_minor": 4
}
