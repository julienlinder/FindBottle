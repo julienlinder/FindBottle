{
 "cells": [
  {
   "cell_type": "markdown",
   "metadata": {},
   "source": [
    "# Import"
   ]
  },
  {
   "cell_type": "code",
   "execution_count": 1,
   "metadata": {},
   "outputs": [],
   "source": [
    "import cv2\n",
    "import numpy as np\n",
    "from matplotlib import pyplot as plt"
   ]
  },
  {
   "cell_type": "markdown",
   "metadata": {},
   "source": [
    "# Initialisation"
   ]
  },
  {
   "cell_type": "code",
   "execution_count": 2,
   "metadata": {},
   "outputs": [],
   "source": [
    "# First image should be the reference image\n",
    "srcs = [\"bouteilleetverre\", \"troisbouteilles\", \"unebouteille\"]\n",
    "imgs = [] # Liste of images\n",
    "bws = [] # Liste of image in black and white\n",
    "for src in srcs:\n",
    "    img = cv2.imread(src + \".jpg\")\n",
    "    (thresh, bw) = cv2.threshold(cv2.cvtColor(img, cv2.COLOR_BGR2GRAY), 127, 255, cv2.THRESH_BINARY)\n",
    "    # print(thresh)\n",
    "    imgs.append(img)\n",
    "    bws.append(bw)\n",
    "    \n",
    "# print(len(imgs))"
   ]
  },
  {
   "cell_type": "markdown",
   "metadata": {},
   "source": [
    "# Base image and image in black and white"
   ]
  },
  {
   "cell_type": "code",
   "execution_count": 3,
   "metadata": {},
   "outputs": [
    {
     "data": {
      "text/plain": [
       "-1"
      ]
     },
     "execution_count": 3,
     "metadata": {},
     "output_type": "execute_result"
    }
   ],
   "source": [
    "t = 0\n",
    "for i in imgs:\n",
    "    cv2.imshow(\"image\" + str(t), i)\n",
    "    t += 1\n",
    "   \n",
    "t = 0\n",
    "for bwi in bws:\n",
    "    cv2.imshow(\"bw\" + str(t), bwi)\n",
    "    t += 1\n",
    "\n",
    "cv2.waitKey(0)"
   ]
  },
  {
   "cell_type": "markdown",
   "metadata": {},
   "source": [
    "# Canny Filter"
   ]
  },
  {
   "cell_type": "code",
   "execution_count": 4,
   "metadata": {},
   "outputs": [
    {
     "data": {
      "text/plain": [
       "-1"
      ]
     },
     "execution_count": 4,
     "metadata": {},
     "output_type": "execute_result"
    }
   ],
   "source": [
    "t = 0\n",
    "for i in imgs:\n",
    "    img_canny = cv2.Canny(imgs[t], 200, 200)\n",
    "    cv2.imshow(\"canny\" + str(t), img_canny)\n",
    "    t += 1\n",
    "cv2.waitKey(0)"
   ]
  },
  {
   "cell_type": "markdown",
   "metadata": {},
   "source": [
    "# Prewitt Filter"
   ]
  },
  {
   "cell_type": "code",
   "execution_count": 5,
   "metadata": {},
   "outputs": [],
   "source": [
    "kernelx = np.array([[1,1,1],[0,0,0],[-1,-1,-1]])\n",
    "kernely = np.array([[-1,0,1],[-1,0,1],[-1,0,1]])"
   ]
  },
  {
   "cell_type": "code",
   "execution_count": 6,
   "metadata": {},
   "outputs": [
    {
     "data": {
      "text/plain": [
       "-1"
      ]
     },
     "execution_count": 6,
     "metadata": {},
     "output_type": "execute_result"
    }
   ],
   "source": [
    "t = 0\n",
    "for bw in bws:\n",
    "    img_prewittx = cv2.filter2D(bw, -1, kernelx)\n",
    "    img_prewitty = cv2.filter2D(bw, -1, kernely)\n",
    "\n",
    "    cv2.imshow(\"prewittx\"+str(t), img_prewittx)\n",
    "    cv2.imshow(\"prewitty\"+str(t), img_prewitty)\n",
    "    cv2.imshow(\"prewittx+y\"+str(t), img_prewittx+img_prewitty)\n",
    "    t += 1\n",
    "    \n",
    "cv2.waitKey(0)"
   ]
  },
  {
   "cell_type": "markdown",
   "metadata": {},
   "source": [
    "# Sobel Filter"
   ]
  },
  {
   "cell_type": "code",
   "execution_count": 7,
   "metadata": {},
   "outputs": [
    {
     "data": {
      "text/plain": [
       "-1"
      ]
     },
     "execution_count": 7,
     "metadata": {},
     "output_type": "execute_result"
    }
   ],
   "source": [
    "t = 0\n",
    "for bw in bws:\n",
    "    img_sobelx = cv2.Sobel(bw,cv2.CV_8U,1,0,ksize=5)\n",
    "    img_sobely = cv2.Sobel(bw,cv2.CV_8U,0,1,ksize=5)\n",
    "    img_sobel = img_sobelx + img_sobely\n",
    "\n",
    "    cv2.imshow(\"sobel\"+str(t), img_sobel)\n",
    "    t += 1\n",
    "    \n",
    "cv2.waitKey(0)"
   ]
  },
  {
   "cell_type": "markdown",
   "metadata": {},
   "source": [
    "# Laplacien Filter"
   ]
  },
  {
   "cell_type": "code",
   "execution_count": 8,
   "metadata": {},
   "outputs": [
    {
     "data": {
      "text/plain": [
       "-1"
      ]
     },
     "execution_count": 8,
     "metadata": {},
     "output_type": "execute_result"
    }
   ],
   "source": [
    "t = 0\n",
    "for bw in bws:\n",
    "    img_laplacian = cv2.Laplacian(bw, cv2.CV_64F)\n",
    "\n",
    "    cv2.imshow(\"laplacian\"+str(t), img_laplacian)\n",
    "    t += 1\n",
    "    \n",
    "cv2.waitKey(0)"
   ]
  },
  {
   "cell_type": "markdown",
   "metadata": {},
   "source": [
    "# New Test"
   ]
  },
  {
   "cell_type": "code",
   "execution_count": 3,
   "metadata": {},
   "outputs": [
    {
     "data": {
      "text/plain": [
       "-1"
      ]
     },
     "execution_count": 3,
     "metadata": {},
     "output_type": "execute_result"
    }
   ],
   "source": [
    "new_img = cv2.imread(srcs[0] + \".jpg\")\n",
    "gray = cv2.cvtColor(new_img, cv2.COLOR_BGR2GRAY)\n",
    "(new_thresh, new_bw) = cv2.threshold(gray, 127, 255, cv2.THRESH_BINARY_INV+cv2.THRESH_OTSU)\n",
    "\n",
    "cv2.imshow(\"bw\", new_bw)\n",
    "cv2.waitKey(0)"
   ]
  },
  {
   "cell_type": "markdown",
   "metadata": {},
   "source": [
    "# Morphology\n",
    "\n",
    "Trying to work with morphology operation for better shape"
   ]
  },
  {
   "cell_type": "markdown",
   "metadata": {},
   "source": [
    "## Opening"
   ]
  },
  {
   "cell_type": "code",
   "execution_count": 4,
   "metadata": {},
   "outputs": [],
   "source": [
    "kernel = np.ones((3,3), np.uint8)\n",
    "opening = cv2.morphologyEx(new_bw, cv2.MORPH_OPEN, kernel, iterations = 2)"
   ]
  },
  {
   "cell_type": "markdown",
   "metadata": {},
   "source": [
    "## Dilate"
   ]
  },
  {
   "cell_type": "code",
   "execution_count": 5,
   "metadata": {},
   "outputs": [],
   "source": [
    "sure_bg = cv2.dilate(opening,kernel,iterations=3)"
   ]
  },
  {
   "cell_type": "markdown",
   "metadata": {},
   "source": [
    "## Distance"
   ]
  },
  {
   "cell_type": "code",
   "execution_count": 6,
   "metadata": {},
   "outputs": [],
   "source": [
    "dist_transform = cv2.distanceTransform(opening,cv2.DIST_L2,5)\n",
    "ret, sure_fg = cv2.threshold(dist_transform,0.7*dist_transform.max(),255,0)"
   ]
  },
  {
   "cell_type": "markdown",
   "metadata": {},
   "source": [
    "# Show"
   ]
  },
  {
   "cell_type": "code",
   "execution_count": 7,
   "metadata": {},
   "outputs": [
    {
     "data": {
      "text/plain": [
       "-1"
      ]
     },
     "execution_count": 7,
     "metadata": {},
     "output_type": "execute_result"
    }
   ],
   "source": [
    "sure_fg = np.uint8(sure_fg)\n",
    "unknown = cv2.subtract(sure_bg,sure_fg)\n",
    "\n",
    "cv2.imshow(\"opening\", opening)\n",
    "cv2.imshow(\"bg\", sure_bg)\n",
    "cv2.imshow(\"fg\", sure_fg)\n",
    "cv2.imshow(\"unknown\", unknown)\n",
    "\n",
    "cv2.waitKey(0)"
   ]
  },
  {
   "cell_type": "markdown",
   "metadata": {},
   "source": [
    "## Marking"
   ]
  },
  {
   "cell_type": "code",
   "execution_count": 8,
   "metadata": {},
   "outputs": [],
   "source": [
    "ret, markers = cv2.connectedComponents(sure_fg)\n",
    "markers = markers+1\n",
    "markers[unknown==255] = 0"
   ]
  },
  {
   "cell_type": "markdown",
   "metadata": {},
   "source": [
    "## Watershed"
   ]
  },
  {
   "cell_type": "code",
   "execution_count": 9,
   "metadata": {},
   "outputs": [],
   "source": [
    "markers = cv2.watershed(new_img,markers)\n",
    "new_img[markers == -1] = [255,0,0]"
   ]
  },
  {
   "cell_type": "markdown",
   "metadata": {},
   "source": [
    "## Results"
   ]
  },
  {
   "cell_type": "code",
   "execution_count": 10,
   "metadata": {},
   "outputs": [
    {
     "data": {
      "text/plain": [
       "-1"
      ]
     },
     "execution_count": 10,
     "metadata": {},
     "output_type": "execute_result"
    }
   ],
   "source": [
    "cv2.imshow(\"new_img\", new_img)\n",
    "cv2.waitKey(0)"
   ]
  },
  {
   "cell_type": "markdown",
   "metadata": {},
   "source": [
    "# Shape Matching"
   ]
  },
  {
   "cell_type": "markdown",
   "metadata": {},
   "source": [
    "## First image"
   ]
  },
  {
   "cell_type": "code",
   "execution_count": null,
   "metadata": {},
   "outputs": [],
   "source": [
    "contoursBase, hierarchyBase = cv2.findContours(sure_bg,\n",
    "                                       cv2.RETR_EXTERNAL, cv2.CHAIN_APPROX_NONE)\n",
    "print(\"Number of Contours found = \" + str(len(contoursBase)))\n",
    "img = cv2.imread(srcs[0] + \".jpg\")\n",
    "\n",
    "cv2.drawContours(img, contoursBase, -1, (0, 255, 0), 3)\n",
    "\n",
    "cv2.imshow('Contours', img)\n",
    "cv2.waitKey(0)"
   ]
  },
  {
   "cell_type": "markdown",
   "metadata": {},
   "source": [
    "## Second Image"
   ]
  },
  {
   "cell_type": "code",
   "execution_count": null,
   "metadata": {},
   "outputs": [],
   "source": [
    "contours, hierarchy = cv2.findContours(sure_bg,\n",
    "                                       cv2.RETR_EXTERNAL, cv2.CHAIN_APPROX_NONE)\n",
    "print(\"Number of Contours found = \" + str(len(contours)))\n",
    "img = cv2.imread(srcs[1] + \".jpg\")\n",
    "\n",
    "cv2.drawContours(img, contours, -1, (0, 255, 0), 3)\n",
    "\n",
    "cv2.imshow('Contours', img)\n",
    "cv2.waitKey(0)"
   ]
  },
  {
   "cell_type": "code",
   "execution_count": null,
   "metadata": {},
   "outputs": [],
   "source": [
    "for contour in contours:\n",
    "    res = cv2.matchShapes(contoursBase[0], contour, 1, 0)\n",
    "    print(res)"
   ]
  },
  {
   "cell_type": "markdown",
   "metadata": {},
   "source": [
    "# Template Matching"
   ]
  },
  {
   "cell_type": "code",
   "execution_count": 68,
   "metadata": {},
   "outputs": [
    {
     "name": "stdout",
     "output_type": "stream",
     "text": [
      "( 880 , 1087 )\n"
     ]
    }
   ],
   "source": [
    "#target image\n",
    "img = cv2.imread('diningbottle.jpg', 0)\n",
    "img2 = img.copy()\n",
    "#template image\n",
    "template = cv2.imread('bottlenobg.jpeg', 0)\n",
    "width, height = template.shape[::-1]\n",
    "w_s, h_s = img.shape[::-1]\n",
    "if width > w_s:\n",
    "    width = w_s\n",
    "    height = int(height*w_s/width)\n",
    "    print(\"width\")\n",
    "if height > h_s:\n",
    "    height = h_s\n",
    "    width = int(width*h_s/height)\n",
    "    print(\"height\")\n",
    "\n",
    "dim = (width, height)\n",
    "print(\"(\", width, \",\", height, \")\")\n",
    "template = cv2.resize(template, dim, interpolation = cv2.INTER_AREA)"
   ]
  },
  {
   "cell_type": "code",
   "execution_count": 70,
   "metadata": {},
   "outputs": [
    {
     "name": "stdout",
     "output_type": "stream",
     "text": [
      "( 880 , 1087 )\n",
      "top left: (556, 0) bottom right: (1436, 1087)\n",
      "top left: (556, 0) bottom right: (1436, 1087)\n",
      "top left: (0, 0) bottom right: (880, 1087)\n",
      "top left: (556, 0) bottom right: (1436, 1087)\n",
      "top left: (556, 0) bottom right: (1436, 1087)\n",
      "top left: (556, 0) bottom right: (1436, 1087)\n"
     ]
    },
    {
     "data": {
      "text/plain": [
       "-1"
      ]
     },
     "execution_count": 70,
     "metadata": {},
     "output_type": "execute_result"
    }
   ],
   "source": [
    "# All the 6 methods for comparison in a list\n",
    "methods = ['cv2.TM_CCOEFF', 'cv2.TM_CCOEFF_NORMED', 'cv2.TM_CCORR',\n",
    "           'cv2.TM_CCORR_NORMED', 'cv2.TM_SQDIFF', 'cv2.TM_SQDIFF_NORMED']\n",
    "t = 0\n",
    "\n",
    "w, h = template.shape[::-1]\n",
    "print(\"(\", w, \",\", h, \")\")\n",
    "ratio = w_s / h_s\n",
    "\n",
    "for meth in methods:\n",
    "    img = img2.copy()\n",
    "    method = eval(meth)\n",
    "    # Apply template Matching\n",
    "    res = cv2.matchTemplate(img, template, method)\n",
    "    min_val, max_val, min_loc, max_loc = cv2.minMaxLoc(res)\n",
    "    # If the method is TM_SQDIFF or TM_SQDIFF_NORMED, take minimum\n",
    "    if method in [cv2.TM_SQDIFF, cv2.TM_SQDIFF_NORMED]:\n",
    "        top_left = min_loc\n",
    "        bottom_right = max_loc\n",
    "    else:\n",
    "        top_left = max_loc\n",
    "        bottom_right = min_loc\n",
    "    bottom_right = (top_left[0] + w, top_left[1] + h)\n",
    "    cv2.rectangle(img, top_left, bottom_right, 255, 2)\n",
    "    print(\"top left:\", top_left ,\"bottom right:\", bottom_right)\n",
    "    #plt.subplot(121), plt.imshow(res, cmap='gray')\n",
    "    #plt.title('Matching Result'), plt.xticks([]), plt.yticks([])\n",
    "    #plt.subplot(122), plt.imshow(img, cmap='gray')\n",
    "    #plt.title('Detected Point'), plt.xticks([]), plt.yticks([])\n",
    "    #plt.suptitle(meth)\n",
    "    \n",
    "    img = cv2.resize(img, (int(ratio*512), 512))\n",
    "    \n",
    "    cv2.imshow(\"technique: \"+ meth, img)\n",
    "    \n",
    "    t += 1\n",
    "\n",
    "    #plt.show()\n",
    "\n",
    "cv2.waitKey(0)"
   ]
  },
  {
   "cell_type": "code",
   "execution_count": null,
   "metadata": {},
   "outputs": [],
   "source": []
  }
 ],
 "metadata": {
  "kernelspec": {
   "display_name": "Python 3",
   "language": "python",
   "name": "python3"
  },
  "language_info": {
   "codemirror_mode": {
    "name": "ipython",
    "version": 3
   },
   "file_extension": ".py",
   "mimetype": "text/x-python",
   "name": "python",
   "nbconvert_exporter": "python",
   "pygments_lexer": "ipython3",
   "version": "3.8.2"
  }
 },
 "nbformat": 4,
 "nbformat_minor": 4
}
