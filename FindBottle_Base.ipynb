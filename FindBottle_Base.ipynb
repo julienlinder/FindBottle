{
 "cells": [
  {
   "cell_type": "markdown",
   "metadata": {},
   "source": [
    "# Import"
   ]
  },
  {
   "cell_type": "code",
   "execution_count": 4,
   "metadata": {},
   "outputs": [],
   "source": [
    "import cv2\n",
    "import numpy as np\n",
    "import os"
   ]
  },
  {
   "cell_type": "markdown",
   "metadata": {},
   "source": [
    "# Initialisation"
   ]
  },
  {
   "cell_type": "code",
   "execution_count": 6,
   "metadata": {},
   "outputs": [
    {
     "name": "stdout",
     "output_type": "stream",
     "text": [
      "D:\\FindBottle_Kiliç_Linder\\images\\template1.jpg\n",
      "D:\\FindBottle_Kiliç_Linder\\images\\bouteilleetverre.jpg\n"
     ]
    }
   ],
   "source": [
    "# First image should be the referance image template1 is a good one\n",
    "# Second image is ur choise u can add it in the image folder and change name here\n",
    "srcs = [\"template1\", \"bouteilleetverre\"]\n",
    "\n",
    "imgs = [] # Liste of images\n",
    "bws = [] # Liste of image in black and white\n",
    "for src in srcs:\n",
    "    img = cv2.imread(\"images/\" + srcs[0] + \".jpg\")\n",
    "    (thresh, bw) = cv2.threshold(cv2.cvtColor(img, cv2.COLOR_BGR2GRAY), 127, 255, cv2.THRESH_BINARY)\n",
    "    # print(thresh)\n",
    "    imgs.append(img)\n",
    "    bws.append(bw)\n",
    "    \n",
    "# print(len(imgs))"
   ]
  },
  {
   "cell_type": "markdown",
   "metadata": {},
   "source": [
    "# Base image and image in black and white"
   ]
  },
  {
   "cell_type": "code",
   "execution_count": 93,
   "metadata": {},
   "outputs": [
    {
     "data": {
      "text/plain": [
       "-1"
      ]
     },
     "execution_count": 93,
     "metadata": {},
     "output_type": "execute_result"
    }
   ],
   "source": [
    "t = 0\n",
    "for i in imgs:\n",
    "    cv2.imshow(\"image\" + str(t), i)\n",
    "    t += 1\n",
    "   \n",
    "t = 0\n",
    "for bwi in bws:\n",
    "    cv2.imshow(\"bw\" + str(t), bwi)\n",
    "    t += 1\n",
    "\n",
    "cv2.waitKey(0)"
   ]
  },
  {
   "cell_type": "markdown",
   "metadata": {},
   "source": [
    "# Canny Filter"
   ]
  },
  {
   "cell_type": "code",
   "execution_count": 94,
   "metadata": {},
   "outputs": [
    {
     "data": {
      "text/plain": [
       "-1"
      ]
     },
     "execution_count": 94,
     "metadata": {},
     "output_type": "execute_result"
    }
   ],
   "source": [
    "t = 0\n",
    "for i in imgs:\n",
    "    img_canny = cv2.Canny(imgs[t], 200, 200)\n",
    "    cv2.imshow(\"canny\" + str(t), img_canny)\n",
    "    t += 1\n",
    "cv2.waitKey(0)"
   ]
  },
  {
   "cell_type": "markdown",
   "metadata": {},
   "source": [
    "# Prewitt Filter"
   ]
  },
  {
   "cell_type": "code",
   "execution_count": 95,
   "metadata": {},
   "outputs": [],
   "source": [
    "kernelx = np.array([[1,1,1],[0,0,0],[-1,-1,-1]])\n",
    "kernely = np.array([[-1,0,1],[-1,0,1],[-1,0,1]])"
   ]
  },
  {
   "cell_type": "code",
   "execution_count": 96,
   "metadata": {},
   "outputs": [
    {
     "data": {
      "text/plain": [
       "-1"
      ]
     },
     "execution_count": 96,
     "metadata": {},
     "output_type": "execute_result"
    }
   ],
   "source": [
    "t = 0\n",
    "for bw in bws:\n",
    "    img_prewittx = cv2.filter2D(bw, -1, kernelx)\n",
    "    img_prewitty = cv2.filter2D(bw, -1, kernely)\n",
    "\n",
    "    cv2.imshow(\"prewittx\"+str(t), img_prewittx)\n",
    "    cv2.imshow(\"prewitty\"+str(t), img_prewitty)\n",
    "    cv2.imshow(\"prewittx+y\"+str(t), img_prewittx+img_prewitty)\n",
    "    t += 1\n",
    "    \n",
    "cv2.waitKey(0)"
   ]
  },
  {
   "cell_type": "markdown",
   "metadata": {},
   "source": [
    "# Sobel Filter"
   ]
  },
  {
   "cell_type": "code",
   "execution_count": 20,
   "metadata": {},
   "outputs": [
    {
     "data": {
      "text/plain": [
       "-1"
      ]
     },
     "execution_count": 20,
     "metadata": {},
     "output_type": "execute_result"
    }
   ],
   "source": [
    "t = 0\n",
    "for bw in bws:\n",
    "    img_sobelx = cv2.Sobel(bw,cv2.CV_8U,1,0,ksize=5)\n",
    "    img_sobely = cv2.Sobel(bw,cv2.CV_8U,0,1,ksize=5)\n",
    "    img_sobel = img_sobelx + img_sobely\n",
    "\n",
    "    cv2.imshow(\"sobel\"+str(t), img_sobel)\n",
    "    t += 1\n",
    "    \n",
    "cv2.waitKey(0)"
   ]
  },
  {
   "cell_type": "markdown",
   "metadata": {},
   "source": [
    "# Laplacien Filter"
   ]
  },
  {
   "cell_type": "code",
   "execution_count": 8,
   "metadata": {},
   "outputs": [
    {
     "data": {
      "text/plain": [
       "-1"
      ]
     },
     "execution_count": 8,
     "metadata": {},
     "output_type": "execute_result"
    }
   ],
   "source": [
    "t = 0\n",
    "for bw in bws:\n",
    "    img_laplacian = cv2.Laplacian(bw, cv2.CV_64F)\n",
    "\n",
    "    cv2.imshow(\"laplacian\"+str(t), img_laplacian)\n",
    "    t += 1\n",
    "    \n",
    "cv2.waitKey(0)"
   ]
  },
  {
   "cell_type": "markdown",
   "metadata": {},
   "source": [
    "# New Test"
   ]
  },
  {
   "cell_type": "code",
   "execution_count": 97,
   "metadata": {},
   "outputs": [
    {
     "data": {
      "text/plain": [
       "-1"
      ]
     },
     "execution_count": 97,
     "metadata": {},
     "output_type": "execute_result"
    }
   ],
   "source": [
    "new_img = cv2.imread(srcs[0] + \".jpg\")\n",
    "(new_thresh, new_bw) = cv2.threshold(cv2.cvtColor(new_img, cv2.COLOR_BGR2GRAY), 127, 255, cv2.THRESH_BINARY)\n",
    "\n",
    "new_bw = cv2.bitwise_not(new_bw)\n",
    "\n",
    "cv2.imshow(\"bw\", new_bw)\n",
    "cv2.waitKey(0)"
   ]
  },
  {
   "cell_type": "markdown",
   "metadata": {},
   "source": [
    "# Morphology\n",
    "\n",
    "Trying to work with morphology operation for better shape"
   ]
  },
  {
   "cell_type": "markdown",
   "metadata": {},
   "source": [
    "## Opening"
   ]
  },
  {
   "cell_type": "code",
   "execution_count": 98,
   "metadata": {},
   "outputs": [],
   "source": [
    "kernel = np.ones((3,3), np.uint8)\n",
    "opening = cv2.morphologyEx(new_bw, cv2.MORPH_OPEN, kernel, iterations = 2)"
   ]
  },
  {
   "cell_type": "markdown",
   "metadata": {},
   "source": [
    "## Dilate"
   ]
  },
  {
   "cell_type": "code",
   "execution_count": 99,
   "metadata": {},
   "outputs": [],
   "source": [
    "sure_bg = cv2.dilate(opening,kernel,iterations=3) # Background of image"
   ]
  },
  {
   "cell_type": "markdown",
   "metadata": {},
   "source": [
    "## Distance"
   ]
  },
  {
   "cell_type": "code",
   "execution_count": 100,
   "metadata": {},
   "outputs": [],
   "source": [
    "dist_transform = cv2.distanceTransform(opening,cv2.DIST_L2,5)\n",
    "ret, sure_fg = cv2.threshold(dist_transform,0.7*dist_transform.max(),255,0) # Forground of image"
   ]
  },
  {
   "cell_type": "markdown",
   "metadata": {},
   "source": [
    "# Show"
   ]
  },
  {
   "cell_type": "code",
   "execution_count": 101,
   "metadata": {},
   "outputs": [
    {
     "data": {
      "text/plain": [
       "-1"
      ]
     },
     "execution_count": 101,
     "metadata": {},
     "output_type": "execute_result"
    }
   ],
   "source": [
    "sure_fg = np.uint8(sure_fg)\n",
    "unknown = cv2.subtract(sure_bg,sure_fg)\n",
    "\n",
    "cv2.imshow(\"opening\", opening)\n",
    "cv2.imshow(\"bg\", sure_bg)\n",
    "cv2.imshow(\"fg\", sure_fg)\n",
    "cv2.imshow(\"unknown\", unknown)\n",
    "cv2.waitKey(0)"
   ]
  },
  {
   "cell_type": "markdown",
   "metadata": {},
   "source": [
    "## Marking"
   ]
  },
  {
   "cell_type": "code",
   "execution_count": 103,
   "metadata": {},
   "outputs": [],
   "source": [
    "ret, markers = cv2.connectedComponents(sure_fg)\n",
    "markers = markers+1\n",
    "markers[unknown==255] = 0"
   ]
  },
  {
   "cell_type": "markdown",
   "metadata": {},
   "source": [
    "## Watershed"
   ]
  },
  {
   "cell_type": "code",
   "execution_count": 104,
   "metadata": {},
   "outputs": [],
   "source": [
    "markers = cv2.watershed(new_img,markers)\n",
    "new_img[markers == -1] = [255,0,0]"
   ]
  },
  {
   "cell_type": "markdown",
   "metadata": {},
   "source": [
    "## Results"
   ]
  },
  {
   "cell_type": "code",
   "execution_count": 105,
   "metadata": {},
   "outputs": [
    {
     "data": {
      "text/plain": [
       "-1"
      ]
     },
     "execution_count": 105,
     "metadata": {},
     "output_type": "execute_result"
    }
   ],
   "source": [
    "cv2.imshow(\"new_img\", new_img)\n",
    "cv2.waitKey(0)"
   ]
  },
  {
   "cell_type": "markdown",
   "metadata": {},
   "source": [
    "# Shape Matching"
   ]
  },
  {
   "cell_type": "markdown",
   "metadata": {},
   "source": [
    "## First image"
   ]
  },
  {
   "cell_type": "code",
   "execution_count": 106,
   "metadata": {},
   "outputs": [
    {
     "name": "stdout",
     "output_type": "stream",
     "text": [
      "Number of Contours found = 1\n"
     ]
    },
    {
     "data": {
      "text/plain": [
       "-1"
      ]
     },
     "execution_count": 106,
     "metadata": {},
     "output_type": "execute_result"
    }
   ],
   "source": [
    "# in findContours u can change the first parameter with the best edge contour finded above \n",
    "contoursBase, hierarchyBase = cv2.findContours(sure_bg,\n",
    "                                       cv2.RETR_EXTERNAL, cv2.CHAIN_APPROX_NONE)\n",
    "print(\"Number of Contours found = \" + str(len(contoursBase)))\n",
    "\n",
    "cv2.drawContours(new_img, contoursBase, -1, (0, 255, 0), 3)\n",
    "\n",
    "cv2.imshow('Contours', new_img)\n",
    "cv2.waitKey(0)"
   ]
  },
  {
   "cell_type": "code",
   "execution_count": null,
   "metadata": {},
   "outputs": [],
   "source": [
    "## Second Image"
   ]
  },
  {
   "cell_type": "code",
   "execution_count": 107,
   "metadata": {},
   "outputs": [
    {
     "name": "stdout",
     "output_type": "stream",
     "text": [
      "Number of Contours found = 4\n"
     ]
    },
    {
     "data": {
      "text/plain": [
       "-1"
      ]
     },
     "execution_count": 107,
     "metadata": {},
     "output_type": "execute_result"
    }
   ],
   "source": [
    "# Duplicate code to update\n",
    "new_img = cv2.imread(srcs[1] + \".jpg\")\n",
    "(new_thresh, new_bw) = cv2.threshold(cv2.cvtColor(new_img, cv2.COLOR_BGR2GRAY), 127, 255, cv2.THRESH_BINARY)\n",
    "\n",
    "new_bw = cv2.bitwise_not(new_bw)\n",
    "\n",
    "kernel = np.ones((3,3), np.uint8)\n",
    "opening = cv2.morphologyEx(new_bw, cv2.MORPH_OPEN, kernel, iterations = 2)\n",
    "sure_bg = cv2.dilate(opening,kernel,iterations=3)\n",
    "dist_transform = cv2.distanceTransform(opening,cv2.DIST_L2,5)\n",
    "ret, sure_fg = cv2.threshold(dist_transform,0.7*dist_transform.max(),255,0)\n",
    "sure_fg = np.uint8(sure_fg)\n",
    "unknown = cv2.subtract(sure_bg,sure_fg)\n",
    "\n",
    "cv2.imshow(\"opening\", opening)\n",
    "cv2.imshow(\"bg\", sure_bg)\n",
    "cv2.imshow(\"fg\", sure_fg)\n",
    "cv2.imshow(\"unknown\", unknown)\n",
    "cv2.waitKey(0)\n",
    "\n",
    "ret, markers = cv2.connectedComponents(sure_fg)\n",
    "markers = markers+1\n",
    "markers[unknown==255] = 0\n",
    "markers = cv2.watershed(new_img,markers)\n",
    "new_img[markers == -1] = [255,0,0]\n",
    "cv2.imshow(\"second image\", new_img)\n",
    "cv2.waitKey(0)\n",
    "\n",
    "\n",
    "# in findContours u can change the first parameter with the best edge contour finded above \n",
    "contours, hierarchy = cv2.findContours(sure_bg,\n",
    "                                       cv2.RETR_EXTERNAL, cv2.CHAIN_APPROX_NONE)\n",
    "print(\"Number of Contours found = \" + str(len(contours)))\n",
    "\n",
    "cv2.drawContours(new_img, contours, -1, (0, 255, 0), 3)\n",
    "\n",
    "cv2.imshow('Contours', new_img)\n",
    "cv2.waitKey(0)"
   ]
  },
  {
   "cell_type": "code",
   "execution_count": 108,
   "metadata": {},
   "outputs": [
    {
     "name": "stdout",
     "output_type": "stream",
     "text": [
      "[1.2526156510411006, 1.0659594158861925, 1.424170587798857, 1.6707576727947264]\n"
     ]
    }
   ],
   "source": [
    "res = []\n",
    "for contour in contours:\n",
    "    res.append(cv2.matchShapes(contoursBase[0], contour, 1, 0))\n",
    "\n",
    "print(res)"
   ]
  },
  {
   "cell_type": "code",
   "execution_count": 109,
   "metadata": {},
   "outputs": [
    {
     "name": "stdout",
     "output_type": "stream",
     "text": [
      "1\n"
     ]
    }
   ],
   "source": [
    "i = res.index(min(res))\n",
    "print(i)"
   ]
  },
  {
   "cell_type": "markdown",
   "metadata": {},
   "source": [
    "# Closest edge"
   ]
  },
  {
   "cell_type": "code",
   "execution_count": 110,
   "metadata": {},
   "outputs": [
    {
     "data": {
      "text/plain": [
       "-1"
      ]
     },
     "execution_count": 110,
     "metadata": {},
     "output_type": "execute_result"
    }
   ],
   "source": [
    "imageDefault = cv2.imread(srcs[1] + \".jpg\")\n",
    "cv2.drawContours(imageDefault, contours[i], -1, (0, 255, 0), 3)\n",
    "cv2.imshow('Contours', imageDefault)\n",
    "cv2.waitKey(0)"
   ]
  },
  {
   "cell_type": "markdown",
   "metadata": {},
   "source": [
    "# Template Matching"
   ]
  },
  {
   "cell_type": "code",
   "execution_count": 7,
   "metadata": {},
   "outputs": [
    {
     "name": "stdout",
     "output_type": "stream",
     "text": [
      "( 880 , 1087 )\n"
     ]
    }
   ],
   "source": [
    "#target image\n",
    "img = cv2.imread('images/diningbottle.jpg', 0)\n",
    "img2 = img.copy()\n",
    "#template image\n",
    "template = cv2.imread('images/bottlenobg.jpeg', 0)\n",
    "width, height = template.shape[::-1]\n",
    "w_s, h_s = img.shape[::-1]\n",
    "if width > w_s:\n",
    "    width = w_s\n",
    "    height = int(height*w_s/width)\n",
    "    print(\"width\")\n",
    "if height > h_s:\n",
    "    height = h_s\n",
    "    width = int(width*h_s/height)\n",
    "    print(\"height\")\n",
    "\n",
    "dim = (width, height)\n",
    "print(\"(\", width, \",\", height, \")\")\n",
    "template = cv2.resize(template, dim, interpolation = cv2.INTER_AREA)"
   ]
  },
  {
   "cell_type": "code",
   "execution_count": 8,
   "metadata": {},
   "outputs": [
    {
     "name": "stdout",
     "output_type": "stream",
     "text": [
      "( 880 , 1087 )\n",
      "top left: (556, 0) bottom right: (1436, 1087)\n",
      "top left: (556, 0) bottom right: (1436, 1087)\n",
      "top left: (0, 0) bottom right: (880, 1087)\n",
      "top left: (556, 0) bottom right: (1436, 1087)\n",
      "top left: (556, 0) bottom right: (1436, 1087)\n",
      "top left: (556, 0) bottom right: (1436, 1087)\n"
     ]
    },
    {
     "data": {
      "text/plain": [
       "-1"
      ]
     },
     "execution_count": 8,
     "metadata": {},
     "output_type": "execute_result"
    }
   ],
   "source": [
    "# All the 6 methods for comparison in a list\n",
    "methods = ['cv2.TM_CCOEFF', 'cv2.TM_CCOEFF_NORMED', 'cv2.TM_CCORR',\n",
    "           'cv2.TM_CCORR_NORMED', 'cv2.TM_SQDIFF', 'cv2.TM_SQDIFF_NORMED']\n",
    "t = 0\n",
    "\n",
    "w, h = template.shape[::-1]\n",
    "print(\"(\", w, \",\", h, \")\")\n",
    "ratio = w_s / h_s\n",
    "\n",
    "for meth in methods:\n",
    "    img = img2.copy()\n",
    "    method = eval(meth)\n",
    "    # Apply template Matching\n",
    "    res = cv2.matchTemplate(img, template, method)\n",
    "    min_val, max_val, min_loc, max_loc = cv2.minMaxLoc(res)\n",
    "    # If the method is TM_SQDIFF or TM_SQDIFF_NORMED, take minimum\n",
    "    if method in [cv2.TM_SQDIFF, cv2.TM_SQDIFF_NORMED]:\n",
    "        top_left = min_loc\n",
    "        # bottom_right = max_loc\n",
    "    else:\n",
    "        top_left = max_loc\n",
    "        # bottom_right = min_loc\n",
    "    bottom_right = (top_left[0] + w, top_left[1] + h)\n",
    "    cv2.rectangle(img, top_left, bottom_right, 255, 2)\n",
    "    print(\"top left:\", top_left ,\"bottom right:\", bottom_right)\n",
    "    #plt.subplot(121), plt.imshow(res, cmap='gray')\n",
    "    #plt.title('Matching Result'), plt.xticks([]), plt.yticks([])\n",
    "    #plt.subplot(122), plt.imshow(img, cmap='gray')\n",
    "    #plt.title('Detected Point'), plt.xticks([]), plt.yticks([])\n",
    "    #plt.suptitle(meth)\n",
    "    \n",
    "    img = cv2.resize(img, (int(ratio*512), 512))\n",
    "    \n",
    "    cv2.imshow(\"technique: \"+ meth, img)\n",
    "    \n",
    "    t += 1\n",
    "\n",
    "    #plt.show()\n",
    "\n",
    "cv2.waitKey(0)"
   ]
  },
  {
   "cell_type": "code",
   "execution_count": null,
   "metadata": {},
   "outputs": [],
   "source": []
  }
 ],
 "metadata": {
  "kernelspec": {
   "display_name": "Python 3",
   "language": "python",
   "name": "python3"
  },
  "language_info": {
   "codemirror_mode": {
    "name": "ipython",
    "version": 3
   },
   "file_extension": ".py",
   "mimetype": "text/x-python",
   "name": "python",
   "nbconvert_exporter": "python",
   "pygments_lexer": "ipython3",
   "version": "3.8.2"
  }
 },
 "nbformat": 4,
 "nbformat_minor": 4
}
